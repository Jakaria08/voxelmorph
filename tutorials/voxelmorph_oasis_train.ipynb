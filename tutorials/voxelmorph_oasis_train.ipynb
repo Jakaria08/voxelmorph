{
  "nbformat": 4,
  "nbformat_minor": 0,
  "metadata": {
    "colab": {
      "provenance": []
    },
    "kernelspec": {
      "name": "python3",
      "display_name": "Python 3"
    },
    "language_info": {
      "name": "python"
    },
    "accelerator": "GPU",
    "gpuClass": "standard"
  },
  "cells": [
    {
      "cell_type": "markdown",
      "source": [
        "# VoxelMorph on neurite-OASIS demo\n",
        "Quick demo on how to train voxelmorph on [neurite-OASIS](https://github.com/adalca/medical-datasets/blob/master/neurite-oasis.md) release using provided `train.py` file."
      ],
      "metadata": {
        "id": "EI1qNmBt75Zc"
      }
    },
    {
      "cell_type": "code",
      "execution_count": null,
      "metadata": {
        "colab": {
          "base_uri": "https://localhost:8080/"
        },
        "id": "4mKxwJiK3X8r",
        "outputId": "fee65df8-9c02-4a6c-f918-08af9d400ae8"
      },
      "outputs": [
        {
          "output_type": "stream",
          "name": "stdout",
          "text": [
            "Cloning into 'voxelmorph'...\n",
            "remote: Enumerating objects: 3177, done.\u001b[K\n",
            "remote: Counting objects: 100% (460/460), done.\u001b[K\n",
            "remote: Compressing objects: 100% (220/220), done.\u001b[K\n",
            "remote: Total 3177 (delta 294), reused 376 (delta 238), pack-reused 2717\u001b[K\n",
            "Receiving objects: 100% (3177/3177), 129.20 MiB | 17.75 MiB/s, done.\n",
            "Resolving deltas: 100% (2041/2041), done.\n",
            "Looking in indexes: https://pypi.org/simple, https://us-python.pkg.dev/colab-wheels/public/simple/\n",
            "Collecting neurite\n",
            "  Downloading neurite-0.2-py3-none-any.whl (108 kB)\n",
            "\u001b[2K     \u001b[90m━━━━━━━━━━━━━━━━━━━━━━━━━━━━━━━━━━━━━━━\u001b[0m \u001b[32m108.9/108.9 KB\u001b[0m \u001b[31m3.1 MB/s\u001b[0m eta \u001b[36m0:00:00\u001b[0m\n",
            "\u001b[?25hRequirement already satisfied: numpy>=1.17 in /usr/local/lib/python3.8/dist-packages (from neurite) (1.21.6)\n",
            "Requirement already satisfied: scipy in /usr/local/lib/python3.8/dist-packages (from neurite) (1.7.3)\n",
            "Requirement already satisfied: packaging in /usr/local/lib/python3.8/dist-packages (from neurite) (21.3)\n",
            "Requirement already satisfied: nibabel in /usr/local/lib/python3.8/dist-packages (from neurite) (3.0.2)\n",
            "Requirement already satisfied: scikit-learn in /usr/local/lib/python3.8/dist-packages (from neurite) (1.0.2)\n",
            "Requirement already satisfied: six in /usr/local/lib/python3.8/dist-packages (from neurite) (1.15.0)\n",
            "Requirement already satisfied: matplotlib in /usr/local/lib/python3.8/dist-packages (from neurite) (3.2.2)\n",
            "Requirement already satisfied: tqdm in /usr/local/lib/python3.8/dist-packages (from neurite) (4.64.1)\n",
            "Collecting pystrum>=0.2\n",
            "  Downloading pystrum-0.2-py3-none-any.whl (19 kB)\n",
            "Requirement already satisfied: python-dateutil>=2.1 in /usr/local/lib/python3.8/dist-packages (from matplotlib->neurite) (2.8.2)\n",
            "Requirement already satisfied: pyparsing!=2.0.4,!=2.1.2,!=2.1.6,>=2.0.1 in /usr/local/lib/python3.8/dist-packages (from matplotlib->neurite) (3.0.9)\n",
            "Requirement already satisfied: kiwisolver>=1.0.1 in /usr/local/lib/python3.8/dist-packages (from matplotlib->neurite) (1.4.4)\n",
            "Requirement already satisfied: cycler>=0.10 in /usr/local/lib/python3.8/dist-packages (from matplotlib->neurite) (0.11.0)\n",
            "Requirement already satisfied: threadpoolctl>=2.0.0 in /usr/local/lib/python3.8/dist-packages (from scikit-learn->neurite) (3.1.0)\n",
            "Requirement already satisfied: joblib>=0.11 in /usr/local/lib/python3.8/dist-packages (from scikit-learn->neurite) (1.2.0)\n",
            "Installing collected packages: pystrum, neurite\n",
            "Successfully installed neurite-0.2 pystrum-0.2\n"
          ]
        }
      ],
      "source": [
        "# install voxelmorph\n",
        "!git clone https://github.com/voxelmorph/voxelmorph.git # getting vxm from git to use scripts\n",
        "!pip install neurite # dependencies"
      ]
    },
    {
      "cell_type": "code",
      "source": [
        "# import voxelmorph\n",
        "import sys \n",
        "sys.path.append('voxelmorph')\n",
        "import voxelmorph as vxm"
      ],
      "metadata": {
        "id": "7dC5zJ605UXz"
      },
      "execution_count": null,
      "outputs": []
    },
    {
      "cell_type": "code",
      "source": [
        "# get neurite-OASIS data\n",
        "!wget https://surfer.nmr.mgh.harvard.edu/ftp/data/neurite/data/neurite-oasis.2d.v1.0.tar\n",
        "!mkdir OASIS\n",
        "!tar xf neurite-oasis.2d.v1.0.tar --directory 'OASIS'"
      ],
      "metadata": {
        "colab": {
          "base_uri": "https://localhost:8080/"
        },
        "id": "q_IKPFaf3d3F",
        "outputId": "55f34f2e-8010-4b89-c1fe-d34315606aee"
      },
      "execution_count": null,
      "outputs": [
        {
          "output_type": "stream",
          "name": "stdout",
          "text": [
            "--2023-01-16 19:41:38--  https://surfer.nmr.mgh.harvard.edu/ftp/data/neurite/data/neurite-oasis.2d.v1.0.tar\n",
            "Resolving surfer.nmr.mgh.harvard.edu (surfer.nmr.mgh.harvard.edu)... 132.183.1.43\n",
            "Connecting to surfer.nmr.mgh.harvard.edu (surfer.nmr.mgh.harvard.edu)|132.183.1.43|:443... connected.\n",
            "HTTP request sent, awaiting response... 200 OK\n",
            "Length: 24903680 (24M) [application/x-tar]\n",
            "Saving to: ‘neurite-oasis.2d.v1.0.tar’\n",
            "\n",
            "neurite-oasis.2d.v1 100%[===================>]  23.75M  12.9MB/s    in 1.8s    \n",
            "\n",
            "2023-01-16 19:41:41 (12.9 MB/s) - ‘neurite-oasis.2d.v1.0.tar’ saved [24903680/24903680]\n",
            "\n"
          ]
        }
      ]
    },
    {
      "cell_type": "code",
      "source": [
        "# write a list of OASIS subjects to a training file\n",
        "import pathlib\n",
        "path = pathlib.Path('/content/OASIS')\n",
        "subj_lst_m = [str(f/'slice_norm.nii.gz') for f in path.iterdir() if str(f).endswith('MR1')]\n",
        "with open('train_list.txt','w') as tfile:\n",
        "\ttfile.write('\\n'.join(subj_lst_m))"
      ],
      "metadata": {
        "id": "nx7Fq0mw6YZv"
      },
      "execution_count": null,
      "outputs": []
    },
    {
      "cell_type": "code",
      "source": [
        "# run training via train.py (here just 10 epochs for demonstration)\n",
        "%run -i /content/voxelmorph/scripts/tf/train.py --img-list 'train_list.txt'  --epochs 10"
      ],
      "metadata": {
        "colab": {
          "base_uri": "https://localhost:8080/"
        },
        "id": "9Y7g6mJZ38iT",
        "outputId": "09e44145-682b-4c56-ad01-527997ea8d04"
      },
      "execution_count": null,
      "outputs": [
        {
          "output_type": "stream",
          "name": "stdout",
          "text": [
            "Epoch 1/10\n",
            "100/100 [==============================] - 20s 39ms/step - batch: 49.5000 - size: 1.0000 - loss: 0.0070 - vxm_dense_transformer_loss: 0.0070 - vxm_dense_flow_resize_loss: 1.2670e-04\n",
            "Epoch 2/10\n",
            "100/100 [==============================] - 4s 42ms/step - batch: 49.5000 - size: 1.0000 - loss: 0.0067 - vxm_dense_transformer_loss: 0.0067 - vxm_dense_flow_resize_loss: 0.0026\n",
            "Epoch 3/10\n",
            "100/100 [==============================] - 4s 41ms/step - batch: 49.5000 - size: 1.0000 - loss: 0.0055 - vxm_dense_transformer_loss: 0.0052 - vxm_dense_flow_resize_loss: 0.0271\n",
            "Epoch 4/10\n",
            "100/100 [==============================] - 4s 41ms/step - batch: 49.5000 - size: 1.0000 - loss: 0.0049 - vxm_dense_transformer_loss: 0.0045 - vxm_dense_flow_resize_loss: 0.0410\n",
            "Epoch 5/10\n",
            "100/100 [==============================] - 4s 42ms/step - batch: 49.5000 - size: 1.0000 - loss: 0.0047 - vxm_dense_transformer_loss: 0.0043 - vxm_dense_flow_resize_loss: 0.0476\n",
            "Epoch 6/10\n",
            "100/100 [==============================] - 4s 40ms/step - batch: 49.5000 - size: 1.0000 - loss: 0.0047 - vxm_dense_transformer_loss: 0.0042 - vxm_dense_flow_resize_loss: 0.0527\n",
            "Epoch 7/10\n",
            "100/100 [==============================] - 4s 41ms/step - batch: 49.5000 - size: 1.0000 - loss: 0.0044 - vxm_dense_transformer_loss: 0.0039 - vxm_dense_flow_resize_loss: 0.0502\n",
            "Epoch 8/10\n",
            "100/100 [==============================] - 4s 40ms/step - batch: 49.5000 - size: 1.0000 - loss: 0.0044 - vxm_dense_transformer_loss: 0.0038 - vxm_dense_flow_resize_loss: 0.0546\n",
            "Epoch 9/10\n",
            "100/100 [==============================] - 4s 41ms/step - batch: 49.5000 - size: 1.0000 - loss: 0.0044 - vxm_dense_transformer_loss: 0.0038 - vxm_dense_flow_resize_loss: 0.0565\n",
            "Epoch 10/10\n",
            "100/100 [==============================] - 4s 40ms/step - batch: 49.5000 - size: 1.0000 - loss: 0.0041 - vxm_dense_transformer_loss: 0.0035 - vxm_dense_flow_resize_loss: 0.0620\n"
          ]
        }
      ]
    }
  ]
}