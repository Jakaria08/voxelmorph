{
  "nbformat": 4,
  "nbformat_minor": 0,
  "metadata": {
    "colab": {
      "provenance": []
    },
    "kernelspec": {
      "name": "python3",
      "display_name": "Python 3"
    }
  },
  "cells": [
    {
      "cell_type": "code",
      "metadata": {
        "colab": {
          "base_uri": "https://localhost:8080/"
        },
        "id": "iX-fm3STZ7GK",
        "outputId": "18b3cabd-e2be-4b38-e9a0-451bf383531e"
      },
      "source": [
        "!pip install voxelmorph"
      ],
      "execution_count": null,
      "outputs": [
        {
          "output_type": "stream",
          "text": [
            "Collecting voxelmorph\n",
            "\u001b[?25l  Downloading https://files.pythonhosted.org/packages/3c/77/fdcf9ff2c8450d447ba760122b50575cfc037921b5870dac61c04a4609cc/voxelmorph-0.1-py3-none-any.whl (75kB)\n",
            "\r\u001b[K     |████▍                           | 10kB 15.5MB/s eta 0:00:01\r\u001b[K     |████████▊                       | 20kB 10.8MB/s eta 0:00:01\r\u001b[K     |█████████████                   | 30kB 8.0MB/s eta 0:00:01\r\u001b[K     |█████████████████▌              | 40kB 6.9MB/s eta 0:00:01\r\u001b[K     |█████████████████████▉          | 51kB 4.2MB/s eta 0:00:01\r\u001b[K     |██████████████████████████▏     | 61kB 4.3MB/s eta 0:00:01\r\u001b[K     |██████████████████████████████▌ | 71kB 4.7MB/s eta 0:00:01\r\u001b[K     |████████████████████████████████| 81kB 3.6MB/s \n",
            "\u001b[?25hRequirement already satisfied: nibabel in /usr/local/lib/python3.6/dist-packages (from voxelmorph) (3.0.2)\n",
            "Requirement already satisfied: numpy in /usr/local/lib/python3.6/dist-packages (from voxelmorph) (1.19.5)\n",
            "Collecting neurite\n",
            "\u001b[?25l  Downloading https://files.pythonhosted.org/packages/a0/4b/705ff365b11bef90b73f5f680c66e34eb3053a7e9ab2bb0705be7b854f08/neurite-0.1-py3-none-any.whl (86kB)\n",
            "\u001b[K     |████████████████████████████████| 92kB 4.0MB/s \n",
            "\u001b[?25hRequirement already satisfied: scikit-image in /usr/local/lib/python3.6/dist-packages (from voxelmorph) (0.16.2)\n",
            "Requirement already satisfied: scipy in /usr/local/lib/python3.6/dist-packages (from voxelmorph) (1.4.1)\n",
            "Requirement already satisfied: h5py in /usr/local/lib/python3.6/dist-packages (from voxelmorph) (2.10.0)\n",
            "Requirement already satisfied: matplotlib in /usr/local/lib/python3.6/dist-packages (from neurite->voxelmorph) (3.2.2)\n",
            "Requirement already satisfied: tqdm in /usr/local/lib/python3.6/dist-packages (from neurite->voxelmorph) (4.41.1)\n",
            "Requirement already satisfied: six in /usr/local/lib/python3.6/dist-packages (from neurite->voxelmorph) (1.15.0)\n",
            "Requirement already satisfied: scikit-learn in /usr/local/lib/python3.6/dist-packages (from neurite->voxelmorph) (0.22.2.post1)\n",
            "Collecting pystrum\n",
            "  Downloading https://files.pythonhosted.org/packages/e4/3a/99e310f01f9e3ef4ab78d9e194c3b22bc53574c70c61c9c9bfc136161439/pystrum-0.1-py3-none-any.whl\n",
            "Requirement already satisfied: pillow>=4.3.0 in /usr/local/lib/python3.6/dist-packages (from scikit-image->voxelmorph) (7.0.0)\n",
            "Requirement already satisfied: networkx>=2.0 in /usr/local/lib/python3.6/dist-packages (from scikit-image->voxelmorph) (2.5)\n",
            "Requirement already satisfied: imageio>=2.3.0 in /usr/local/lib/python3.6/dist-packages (from scikit-image->voxelmorph) (2.4.1)\n",
            "Requirement already satisfied: PyWavelets>=0.4.0 in /usr/local/lib/python3.6/dist-packages (from scikit-image->voxelmorph) (1.1.1)\n",
            "Requirement already satisfied: pyparsing!=2.0.4,!=2.1.2,!=2.1.6,>=2.0.1 in /usr/local/lib/python3.6/dist-packages (from matplotlib->neurite->voxelmorph) (2.4.7)\n",
            "Requirement already satisfied: cycler>=0.10 in /usr/local/lib/python3.6/dist-packages (from matplotlib->neurite->voxelmorph) (0.10.0)\n",
            "Requirement already satisfied: python-dateutil>=2.1 in /usr/local/lib/python3.6/dist-packages (from matplotlib->neurite->voxelmorph) (2.8.1)\n",
            "Requirement already satisfied: kiwisolver>=1.0.1 in /usr/local/lib/python3.6/dist-packages (from matplotlib->neurite->voxelmorph) (1.3.1)\n",
            "Requirement already satisfied: joblib>=0.11 in /usr/local/lib/python3.6/dist-packages (from scikit-learn->neurite->voxelmorph) (1.0.0)\n",
            "Requirement already satisfied: decorator>=4.3.0 in /usr/local/lib/python3.6/dist-packages (from networkx>=2.0->scikit-image->voxelmorph) (4.4.2)\n",
            "Installing collected packages: pystrum, neurite, voxelmorph\n",
            "Successfully installed neurite-0.1 pystrum-0.1 voxelmorph-0.1\n"
          ],
          "name": "stdout"
        }
      ]
    },
    {
      "cell_type": "code",
      "metadata": {
        "id": "hdOghbhkaBKf"
      },
      "source": [
        "import voxelmorph as vxm\n",
        "import tensorflow as tf\n",
        "import numpy as np\n",
        "import matplotlib.pyplot as plt"
      ],
      "execution_count": null,
      "outputs": []
    },
    {
      "cell_type": "markdown",
      "metadata": {
        "id": "UNw4O-C-aMvU"
      },
      "source": [
        "# Data and Affine transform"
      ]
    },
    {
      "cell_type": "code",
      "metadata": {
        "id": "sw2TPiWNaH9b",
        "colab": {
          "base_uri": "https://localhost:8080/"
        },
        "outputId": "38ebf3fa-b511-470c-d757-ddd1c0fc4dae"
      },
      "source": [
        "# load MNIST and extract a small image\n",
        "pad_amt = 10\n",
        "(x_train, _), _ = tf.keras.datasets.mnist.load_data()\n",
        "im = x_train[0, ...].astype('float')/255\n",
        "im = np.pad(im, ((pad_amt, pad_amt), (pad_amt, pad_amt)))\n",
        "\n",
        "# random affine to apply (could be much smarter about this)\n",
        "aff = np.eye(3)\n",
        "aff[:2, :2] += np.random.randn(2, 2) * 0.1\n",
        "aff[:2, 2] = np.random.uniform(-10, 10, (2, ))\n",
        "aff_inv = np.linalg.inv(aff)\n",
        "\n",
        "# take out some random annotation locations to warp later\n",
        "margin = 10\n",
        "nb_annotations = 5\n",
        "annotations = [np.random.uniform(margin, f - margin, nb_annotations) for f in im.shape] \n",
        "annotations = np.stack(annotations, 1)"
      ],
      "execution_count": null,
      "outputs": [
        {
          "output_type": "stream",
          "text": [
            "Downloading data from https://storage.googleapis.com/tensorflow/tf-keras-datasets/mnist.npz\n",
            "11493376/11490434 [==============================] - 0s 0us/step\n"
          ],
          "name": "stdout"
        }
      ]
    },
    {
      "cell_type": "markdown",
      "metadata": {
        "id": "iXrSg01ybq3C"
      },
      "source": [
        "# Warp Data"
      ]
    },
    {
      "cell_type": "code",
      "metadata": {
        "id": "fXIu9Na4aEeW"
      },
      "source": [
        "# transform to keras shape\n",
        "im_keras = im[np.newaxis, ..., np.newaxis]\n",
        "aff_keras = aff[np.newaxis, :2, :]\n",
        "annotations_keras = annotations[np.newaxis, ...]\n",
        "\n",
        "# warp image\n",
        "im_warped = vxm.layers.SpatialTransformer(add_identity=False)([im_keras, aff_keras])\n",
        "im_warped = im_warped[0, ..., 0]\n",
        "\n",
        "# get dense field of inverse affine\n",
        "field_inv = vxm.utils.affine_to_shift(aff_inv, im.shape, shift_center=True)[np.newaxis, ...]\n",
        "\n",
        "# warp annotations\n",
        "data = [tf.convert_to_tensor(f, dtype=tf.float32) for f in [annotations_keras, field_inv]]\n",
        "annotations_warped = vxm.utils.point_spatial_transformer(data)[0, ...].numpy()"
      ],
      "execution_count": null,
      "outputs": []
    },
    {
      "cell_type": "code",
      "metadata": {
        "colab": {
          "base_uri": "https://localhost:8080/",
          "height": 183
        },
        "id": "h1KXYz-Nauwn",
        "outputId": "c0557370-6a64-47ca-a730-948d1c6a8f8d"
      },
      "source": [
        "plt.figure()\n",
        "\n",
        "# note that x and y need to be flipped due to xy indexing in matplotlib\n",
        "plt.subplot(1, 2, 1)\n",
        "plt.imshow(im, cmap='gray')\n",
        "plt.plot(*[annotations[:, f] for f in [1, 0]], 'o')  \n",
        "plt.axis('off')\n",
        "\n",
        "plt.subplot(1, 2, 2)\n",
        "plt.imshow(im_warped, cmap='gray')\n",
        "plt.plot(*[annotations_warped[:, f] for f in [1, 0]], 'o')\n",
        "plt.axis('off');"
      ],
      "execution_count": null,
      "outputs": [
        {
          "output_type": "display_data",
          "data": {
            "image/png": "[encoded data removed]",
            "text/plain": [
              "<Figure size 432x288 with 2 Axes>"
            ]
          },
          "metadata": {
            "tags": [],
            "needs_background": "light"
          }
        }
      ]
    },
    {
      "cell_type": "code",
      "metadata": {
        "id": "k8u5yhy9a9P-"
      },
      "source": [],
      "execution_count": null,
      "outputs": []
    }
  ]
}